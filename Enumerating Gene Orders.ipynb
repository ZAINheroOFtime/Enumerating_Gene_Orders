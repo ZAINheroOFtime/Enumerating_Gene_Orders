{
 "cells": [
  {
   "cell_type": "code",
   "execution_count": 1,
   "metadata": {},
   "outputs": [
    {
     "name": "stdout",
     "output_type": "stream",
     "text": [
      "6\n"
     ]
    }
   ],
   "source": [
    "from itertools import permutations\n",
    "num = 3\n",
    "result = []\n",
    "l = []\n",
    "stuff = [i for i in range(1,num+1)]\n",
    "for i in range(0, len(stuff)+1):\n",
    "        for subset in permutations(stuff, i):\n",
    "                if len(subset)==num:\n",
    "                    if sum(subset[:]) != 0:\n",
    "                        with open('geneorder.txt','a') as txt_file:\n",
    "                            txt_file.write('\\n'+str(subset).replace('(','').replace(')','').replace(', ',' '))\n",
    "                        result.append(subset)\n",
    "print(len(result))"
   ]
  }
 ],
 "metadata": {
  "interpreter": {
   "hash": "ca84a58b072d25fcb7a3fc71b36237c532d1768f3d3e7d7980f49d926c1ceec8"
  },
  "kernelspec": {
   "display_name": "Python 3.10.2 64-bit ('minimal_ds': conda)",
   "language": "python",
   "name": "python3"
  },
  "language_info": {
   "codemirror_mode": {
    "name": "ipython",
    "version": 3
   },
   "file_extension": ".py",
   "mimetype": "text/x-python",
   "name": "python",
   "nbconvert_exporter": "python",
   "pygments_lexer": "ipython3",
   "version": "3.10.2"
  },
  "orig_nbformat": 4
 },
 "nbformat": 4,
 "nbformat_minor": 2
}
